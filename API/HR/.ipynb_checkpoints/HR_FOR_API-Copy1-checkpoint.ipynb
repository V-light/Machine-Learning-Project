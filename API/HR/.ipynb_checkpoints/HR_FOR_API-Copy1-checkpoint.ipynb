{
 "cells": [
  {
   "cell_type": "code",
   "execution_count": 32,
   "metadata": {},
   "outputs": [
    {
     "name": "stdout",
     "output_type": "stream",
     "text": [
      "[1]\n"
     ]
    }
   ],
   "source": [
    "import pandas as pd\n",
    "import numpy as np\n",
    "import pickle\n",
    "import json\n",
    "import matplotlib.pyplot as plt\n",
    "from sklearn.model_selection import train_test_split\n",
    "from sklearn.ensemble import RandomForestClassifier\n",
    "import os\n",
    "\n",
    "\n",
    "def dummy_row(df):\n",
    "    df2 = pd.DataFrame()\n",
    "    for k in df:\n",
    "        df2[k] = [0]\n",
    "    df2.to_csv(\"dummy_row.csv\", index=False)\n",
    "    \n",
    "def from_dummy_row(user_df):\n",
    "    df = pd.read_csv(\"dummy_row.csv\")\n",
    "    for k in user_df:\n",
    "        df[k] = user_df[k]\n",
    "    return df\n",
    "\n",
    "def getDF(d1):\n",
    "    d2 ={}\n",
    "    for k in d1:\n",
    "        v = []\n",
    "        v.append(d1[k])\n",
    "        d2[k] = v\n",
    "    return pd.DataFrame(d2)\n",
    "\n",
    "\n",
    "        \n",
    "def pre_proc(df):\n",
    "    df.salary = df.salary.replace([\"low\", \"medium\", \"high\"], [0,1,2])\n",
    "    df.salary = df.salary.astype(int)\n",
    "    df = pd.get_dummies(df)\n",
    "    return df\n",
    "\n",
    "def training():\n",
    "    df = pd.read_csv(\"HR_comma_sep.csv\")\n",
    "    df   = pre_proc(df)\n",
    "    dummy_row(df)\n",
    "\n",
    "    y = df[\"left\"]\n",
    "    X = df.drop(\"left\", axis=1)\n",
    "    X_train, X_test, y_train, y_test = train_test_split(X, y, test_size=0.2, random_state=11)\n",
    "    model = RandomForestClassifier(n_estimators=300, random_state=1)\n",
    "    model.fit(X_train, y_train)\n",
    "    with open(\"mymodel.pkl\", \"wb\") as f1:\n",
    "        pickle.dump(model, f1)\n",
    "    print(model.score(X_test, y_test))\n",
    "    from sklearn.metrics import confusion_matrix\n",
    "    y_prd = model.predict(X_test)\n",
    "    return confusion_matrix(y_test, y_prd)\n",
    "\n",
    "\n",
    "def pred(jsonStr):\n",
    "    x =json.loads(jsonStr)\n",
    "    df =getDF(x)\n",
    "    df = pre_proc(df)\n",
    "    df = from_dummy_row(df)\n",
    "    if \"left\" in df:\n",
    "        df.drop(\"left\", axis=1, inplace=True)  \n",
    "        \n",
    "    with open(\"mymodel.pkl\", 'rb') as f1:\n",
    "        model = pickle.load(f1)\n",
    "        \n",
    "    print(model.predict(df))\n",
    "#     return df\n",
    "# training()\n",
    "pred('{\"satisfaction_level\":0.38,\"last_evaluation\":0.53,\"number_project\":2,\"average_montly_hours\":157,\"time_spend_company\":3,\"Work_accident\":0,\"left\":1,\"promotion_last_5years\":0,\"Department\":\"sales\",\"salary\":\"low\"}')"
   ]
  },
  {
   "cell_type": "code",
   "execution_count": 7,
   "metadata": {},
   "outputs": [],
   "source": [
    "df = pd.read_csv(\"HR_comma_sep.csv\")"
   ]
  },
  {
   "cell_type": "code",
   "execution_count": 11,
   "metadata": {},
   "outputs": [
    {
     "data": {
      "text/plain": [
       "'{\"satisfaction_level\":0.38,\"last_evaluation\":0.53,\"number_project\":2,\"average_montly_hours\":157,\"time_spend_company\":3,\"Work_accident\":0,\"left\":1,\"promotion_last_5years\":0,\"Department\":\"sales\",\"salary\":\"low\"}'"
      ]
     },
     "execution_count": 11,
     "metadata": {},
     "output_type": "execute_result"
    }
   ],
   "source": [
    "df.iloc[0].to_json()"
   ]
  },
  {
   "cell_type": "code",
   "execution_count": null,
   "metadata": {},
   "outputs": [],
   "source": []
  }
 ],
 "metadata": {
  "kernelspec": {
   "display_name": "Python 3",
   "language": "python",
   "name": "python3"
  },
  "language_info": {
   "codemirror_mode": {
    "name": "ipython",
    "version": 3
   },
   "file_extension": ".py",
   "mimetype": "text/x-python",
   "name": "python",
   "nbconvert_exporter": "python",
   "pygments_lexer": "ipython3",
   "version": "3.7.3"
  }
 },
 "nbformat": 4,
 "nbformat_minor": 2
}
