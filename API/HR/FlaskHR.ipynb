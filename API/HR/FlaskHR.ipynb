{
 "cells": [
  {
   "cell_type": "code",
   "execution_count": null,
   "metadata": {},
   "outputs": [],
   "source": [
    "from HR_FOR_API import pred\n",
    "from flask import Flask , jsonify , request\n",
    "from flask_restful import Resource , Api\n",
    "\n",
    "app = Flask(__name__)\n",
    "\n",
    "api = Api(app)\n",
    "\n",
    "class HRPred(Resource):\n",
    "    def post(self):\n",
    "        data = request.get_json()\n",
    "        res = pred(data)\n",
    "        return {\"Result\": str(res)}\n",
    "    \n",
    "api.add_resource(HRPred, \"/HR_pred\")\n",
    "\n",
    "if __name__ = = \"__main__\":\n",
    "    app.run(debug = True)\n"
   ]
  }
 ],
 "metadata": {
  "kernelspec": {
   "display_name": "Python 3",
   "language": "python",
   "name": "python3"
  },
  "language_info": {
   "codemirror_mode": {
    "name": "ipython",
    "version": 3
   },
   "file_extension": ".py",
   "mimetype": "text/x-python",
   "name": "python",
   "nbconvert_exporter": "python",
   "pygments_lexer": "ipython3",
   "version": "3.7.3"
  }
 },
 "nbformat": 4,
 "nbformat_minor": 2
}
